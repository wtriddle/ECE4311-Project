{
 "cells": [
  {
   "cell_type": "code",
   "execution_count": 1,
   "id": "a9d74e03-0b93-4bc8-bbd1-8f86536f2456",
   "metadata": {},
   "outputs": [],
   "source": [
    "import iplantuml"
   ]
  },
  {
   "cell_type": "code",
   "execution_count": 2,
   "id": "01ced8d5-d112-44fe-b381-3b36780575fa",
   "metadata": {},
   "outputs": [
    {
     "data": {
      "image/svg+xml": [
       "<svg xmlns=\"http://www.w3.org/2000/svg\" xmlns:xlink=\"http://www.w3.org/1999/xlink\" contentStyleType=\"text/css\" height=\"101px\" preserveAspectRatio=\"none\" style=\"width:244px;height:101px;background:#FFFFFF;\" version=\"1.1\" viewBox=\"0 0 244 101\" width=\"244px\" zoomAndPan=\"magnify\"><defs/><g><!--MD5=[a653da9285a52f9d253372cfed81819e]\n",
       "class db--><g id=\"elem_db\"><rect codeLine=\"1\" fill=\"#F1F1F1\" height=\"80.5938\" id=\"db\" rx=\"2.5\" ry=\"2.5\" style=\"stroke:#181818;stroke-width:0.5;\" width=\"223\" x=\"7\" y=\"7\"/><ellipse cx=\"74.25\" cy=\"23\" fill=\"#ADD1B2\" rx=\"11\" ry=\"11\" style=\"stroke:#181818;stroke-width:1.0;\"/><path d=\"M76.5938,18.6719 C75.6563,18.2344 75.0625,18.0938 74.1875,18.0938 C71.5625,18.0938 69.5625,20.1719 69.5625,22.8906 L69.5625,24.0156 C69.5625,26.5938 71.6719,28.4844 74.5625,28.4844 C75.7813,28.4844 76.9375,28.1875 77.6875,27.6406 C78.2656,27.2344 78.5938,26.7813 78.5938,26.3906 C78.5938,25.9375 78.2031,25.5469 77.7344,25.5469 C77.5156,25.5469 77.3125,25.625 77.125,25.8125 C76.6719,26.2969 76.6719,26.2969 76.4844,26.3906 C76.0625,26.6563 75.375,26.7813 74.6094,26.7813 C72.5625,26.7813 71.2656,25.6875 71.2656,23.9844 L71.2656,22.8906 C71.2656,21.1094 72.5156,19.7969 74.25,19.7969 C74.8281,19.7969 75.4375,19.9531 75.9063,20.2031 C76.3906,20.4844 76.5625,20.7031 76.6563,21.1094 C76.7188,21.5156 76.75,21.6406 76.8906,21.7656 C77.0313,21.9063 77.2656,22.0156 77.4844,22.0156 C77.75,22.0156 78.0156,21.875 78.1875,21.6563 C78.2969,21.5 78.3281,21.3125 78.3281,20.8906 L78.3281,19.4688 C78.3281,19.0313 78.3125,18.9063 78.2188,18.75 C78.0625,18.4844 77.7813,18.3438 77.4844,18.3438 C77.1875,18.3438 76.9844,18.4375 76.7656,18.75 L76.5938,18.6719 Z \" fill=\"#000000\"/><text fill=\"#000000\" font-family=\"sans-serif\" font-size=\"14\" lengthAdjust=\"spacing\" textLength=\"80\" x=\"94.75\" y=\"27.8467\">DiscordBot</text><line style=\"stroke:#181818;stroke-width:0.5;\" x1=\"8\" x2=\"229\" y1=\"39\" y2=\"39\"/><ellipse cx=\"18\" cy=\"50\" fill=\"none\" rx=\"3\" ry=\"3\" style=\"stroke:#038048;stroke-width:1.0;\"/><text fill=\"#000000\" font-family=\"sans-serif\" font-size=\"14\" lengthAdjust=\"spacing\" textLength=\"197\" x=\"27\" y=\"55.9951\">ping [username] [password]</text><ellipse cx=\"18\" cy=\"66.2969\" fill=\"none\" rx=\"3\" ry=\"3\" style=\"stroke:#038048;stroke-width:1.0;\"/><text fill=\"#000000\" font-family=\"sans-serif\" font-size=\"14\" lengthAdjust=\"spacing\" textLength=\"76\" x=\"27\" y=\"72.292\">checkLogs</text><line style=\"stroke:#181818;stroke-width:0.5;\" x1=\"8\" x2=\"229\" y1=\"79.5938\" y2=\"79.5938\"/></g><!--MD5=[3005bc3f3e48c21dc1410e5cce8e84e5]\n",
       "@startuml\n",
       "class \"DiscordBot\" as db {\n",
       "    +ping [username] [password]\n",
       "    +checkLogs\n",
       "}\n",
       "@enduml\n",
       "\n",
       "PlantUML version 1.2022.4beta2(Unknown compile time)\n",
       "(GPL source distribution)\n",
       "Java Runtime: Java(TM) SE Runtime Environment\n",
       "JVM: Java HotSpot(TM) 64-Bit Server VM\n",
       "Default Encoding: UTF-8\n",
       "Language: en\n",
       "Country: US\n",
       "--></g></svg>"
      ],
      "text/plain": [
       "<IPython.core.display.SVG object>"
      ]
     },
     "execution_count": 2,
     "metadata": {},
     "output_type": "execute_result"
    }
   ],
   "source": [
    "%%plantuml\n",
    "\n",
    "@startuml\n",
    "class \"DiscordBot\" as db {\n",
    "    +ping [username] [password]\n",
    "    +checkLogs\n",
    "}"
   ]
  },
  {
   "cell_type": "code",
   "execution_count": 5,
   "id": "83681a44-f7f6-4ccb-99ae-01f5decf7bf5",
   "metadata": {},
   "outputs": [
    {
     "data": {
      "image/svg+xml": [
       "<svg xmlns=\"http://www.w3.org/2000/svg\" xmlns:xlink=\"http://www.w3.org/1999/xlink\" contentStyleType=\"text/css\" height=\"134px\" preserveAspectRatio=\"none\" style=\"width:296px;height:134px;background:#FFFFFF;\" version=\"1.1\" viewBox=\"0 0 296 134\" width=\"296px\" zoomAndPan=\"magnify\"><defs/><g><!--MD5=[b27b94ae07ef4a5fa043b365ab6e16e2]\n",
       "class rest--><g id=\"elem_rest\"><rect codeLine=\"1\" fill=\"#F1F1F1\" height=\"113.1875\" id=\"rest\" rx=\"2.5\" ry=\"2.5\" style=\"stroke:#181818;stroke-width:0.5;\" width=\"275\" x=\"7\" y=\"7\"/><ellipse cx=\"79.75\" cy=\"23\" fill=\"#ADD1B2\" rx=\"11\" ry=\"11\" style=\"stroke:#181818;stroke-width:1.0;\"/><path d=\"M82.0938,18.6719 C81.1563,18.2344 80.5625,18.0938 79.6875,18.0938 C77.0625,18.0938 75.0625,20.1719 75.0625,22.8906 L75.0625,24.0156 C75.0625,26.5938 77.1719,28.4844 80.0625,28.4844 C81.2813,28.4844 82.4375,28.1875 83.1875,27.6406 C83.7656,27.2344 84.0938,26.7813 84.0938,26.3906 C84.0938,25.9375 83.7031,25.5469 83.2344,25.5469 C83.0156,25.5469 82.8125,25.625 82.625,25.8125 C82.1719,26.2969 82.1719,26.2969 81.9844,26.3906 C81.5625,26.6563 80.875,26.7813 80.1094,26.7813 C78.0625,26.7813 76.7656,25.6875 76.7656,23.9844 L76.7656,22.8906 C76.7656,21.1094 78.0156,19.7969 79.75,19.7969 C80.3281,19.7969 80.9375,19.9531 81.4063,20.2031 C81.8906,20.4844 82.0625,20.7031 82.1563,21.1094 C82.2188,21.5156 82.25,21.6406 82.3906,21.7656 C82.5313,21.9063 82.7656,22.0156 82.9844,22.0156 C83.25,22.0156 83.5156,21.875 83.6875,21.6563 C83.7969,21.5 83.8281,21.3125 83.8281,20.8906 L83.8281,19.4688 C83.8281,19.0313 83.8125,18.9063 83.7188,18.75 C83.5625,18.4844 83.2813,18.3438 82.9844,18.3438 C82.6875,18.3438 82.4844,18.4375 82.2656,18.75 L82.0938,18.6719 Z \" fill=\"#000000\"/><text fill=\"#000000\" font-family=\"sans-serif\" font-size=\"14\" lengthAdjust=\"spacing\" textLength=\"121\" x=\"100.25\" y=\"27.8467\">WebServer REST</text><line style=\"stroke:#181818;stroke-width:0.5;\" x1=\"8\" x2=\"281\" y1=\"39\" y2=\"39\"/><text fill=\"#000000\" font-family=\"sans-serif\" font-size=\"14\" lengthAdjust=\"spacing\" textLength=\"263\" x=\"13\" y=\"55.9951\">/authenticate [username] [password]</text><text fill=\"#000000\" font-family=\"sans-serif\" font-size=\"14\" lengthAdjust=\"spacing\" textLength=\"200\" x=\"13\" y=\"72.292\">/user [username] [password]</text><text fill=\"#000000\" font-family=\"sans-serif\" font-size=\"14\" lengthAdjust=\"spacing\" textLength=\"193\" x=\"13\" y=\"88.5889\">/file [username] [password]</text><text fill=\"#000000\" font-family=\"sans-serif\" font-size=\"14\" lengthAdjust=\"spacing\" textLength=\"225\" x=\"13\" y=\"104.8857\">/get_file [username] [password]</text><line style=\"stroke:#181818;stroke-width:0.5;\" x1=\"8\" x2=\"281\" y1=\"112.1875\" y2=\"112.1875\"/></g><!--MD5=[623d5f90c9bc2c905b7070d96cedaa0c]\n",
       "@startuml\n",
       "class \"WebServer REST\" as rest {\n",
       "    /authenticate [username] [password]\n",
       "    /user [username] [password]\n",
       "    /file [username] [password]\n",
       "    /get_file [username] [password]\n",
       "}\n",
       "@enduml\n",
       "\n",
       "PlantUML version 1.2022.4beta2(Unknown compile time)\n",
       "(GPL source distribution)\n",
       "Java Runtime: Java(TM) SE Runtime Environment\n",
       "JVM: Java HotSpot(TM) 64-Bit Server VM\n",
       "Default Encoding: UTF-8\n",
       "Language: en\n",
       "Country: US\n",
       "--></g></svg>"
      ],
      "text/plain": [
       "<IPython.core.display.SVG object>"
      ]
     },
     "execution_count": 5,
     "metadata": {},
     "output_type": "execute_result"
    }
   ],
   "source": [
    "%%plantuml\n",
    "\n",
    "@startuml\n",
    "class \"WebServer REST\" as rest {\n",
    "    /authenticate [username] [password]\n",
    "    /user [username] [password]\n",
    "    /file [username] [password]\n",
    "    /get_file [username] [password]\n",
    "}"
   ]
  },
  {
   "cell_type": "code",
   "execution_count": null,
   "id": "a09409b1-f29a-45fa-9c56-7205be7f1cf1",
   "metadata": {},
   "outputs": [],
   "source": []
  }
 ],
 "metadata": {
  "kernelspec": {
   "display_name": "Python 3 (ipykernel)",
   "language": "python",
   "name": "python3"
  },
  "language_info": {
   "codemirror_mode": {
    "name": "ipython",
    "version": 3
   },
   "file_extension": ".py",
   "mimetype": "text/x-python",
   "name": "python",
   "nbconvert_exporter": "python",
   "pygments_lexer": "ipython3",
   "version": "3.8.3"
  }
 },
 "nbformat": 4,
 "nbformat_minor": 5
}
